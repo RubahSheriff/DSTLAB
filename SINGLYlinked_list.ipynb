{
  "nbformat": 4,
  "nbformat_minor": 0,
  "metadata": {
    "colab": {
      "provenance": []
    },
    "kernelspec": {
      "name": "python3",
      "display_name": "Python 3"
    },
    "language_info": {
      "name": "python"
    }
  },
  "cells": [
    {
      "cell_type": "code",
      "execution_count": null,
      "metadata": {
        "colab": {
          "base_uri": "https://localhost:8080/"
        },
        "id": "TI2h1pnJUYWY",
        "outputId": "825b62d0-2247-4b2c-fded-7090307a5a1f"
      },
      "outputs": [
        {
          "output_type": "stream",
          "name": "stdout",
          "text": [
            "20\n",
            "10\n"
          ]
        }
      ],
      "source": [
        "class Node:\n",
        "  def __init__(self, data):\n",
        "    self.data = data\n",
        "    self.ref = None\n",
        "node1 = Node (10)\n",
        "\n",
        "# traversal of linked list\n",
        "class Linkedlist:\n",
        "  def __init__(self):\n",
        "    self.head = None\n",
        "  def print_LL(self):\n",
        "    if self.head is None:\n",
        "      print(\"linked list is empty\")\n",
        "    else:\n",
        "      n = self.head\n",
        "      while n is not None:\n",
        "        print(n.data)\n",
        "        n = n.ref\n",
        "  # insertion at the beginning\n",
        "  def add_begin(self, data):\n",
        "   new_node = Node(data)\n",
        "   new_node.ref = self.head\n",
        "   self.head = new_node\n",
        "LL1 = Linkedlist()\n",
        "LL1.add_begin(10)\n",
        "LL1.add_begin(20)\n",
        "LL1.print_LL()\n"
      ]
    },
    {
      "cell_type": "code",
      "source": [
        "class Node:\n",
        "  def __init__(self, data):\n",
        "    self.data = data\n",
        "    self.ref = None\n",
        "node1 = Node (10)\n",
        "\n",
        "# traversal of linked list\n",
        "class Linkedlist:\n",
        "  def __init__(self):\n",
        "    self.head = None\n",
        "  def print_LL(self):\n",
        "    if self.head is None:\n",
        "      print(\"linked list is empty\")\n",
        "    else:\n",
        "      n = self.head\n",
        "      while n is not None:\n",
        "        print(n.data,\"-->\")\n",
        "        n = n.ref\n",
        "# insertion at the beginning\n",
        "  def add_begin(self, data):\n",
        "   new_node = Node(data)\n",
        "   new_node.ref = self.head\n",
        "   self.head = new_node\n",
        "# insertion at the end\n",
        "  def add_end(self, data):\n",
        "    new_node = Node(data)\n",
        "    if self.head is None:\n",
        "      self.head = new_node\n",
        "    else:\n",
        "      n = self.head\n",
        "      while n.ref is not None:\n",
        "       n = n.ref\n",
        "      n.ref = new_node\n",
        "LL1 = Linkedlist()\n",
        "LL1.add_begin(30)\n",
        "LL1.add_begin(20)\n",
        "LL1.add_begin(10)\n",
        "LL1.add_end(100)\n",
        "LL1.add_end(150)\n",
        "LL1.print_LL()"
      ],
      "metadata": {
        "colab": {
          "base_uri": "https://localhost:8080/"
        },
        "id": "PAEPtdOpWVns",
        "outputId": "4a9996e9-7724-4295-aa6a-a5acda5668e5"
      },
      "execution_count": null,
      "outputs": [
        {
          "output_type": "stream",
          "name": "stdout",
          "text": [
            "10 -->\n",
            "20 -->\n",
            "30 -->\n",
            "100 -->\n",
            "150 -->\n"
          ]
        }
      ]
    },
    {
      "cell_type": "code",
      "source": [
        "# INSERTION\n",
        "class Node:\n",
        "  def __init__(self, data):\n",
        "    self.data = data\n",
        "    self.ref = None\n",
        "node1 = Node (10)\n",
        "\n",
        "# traversal of linked list\n",
        "class Linkedlist:\n",
        "  def __init__(self):\n",
        "    self.head = None\n",
        "  def print_LL(self):\n",
        "    if self.head is None:\n",
        "      print(\"linked list is empty\")\n",
        "    else:\n",
        "      n = self.head\n",
        "      while n is not None:\n",
        "        print(n.data,\"-->\", end=\"\")\n",
        "        n = n.ref\n",
        "# insertion at the beginning\n",
        "  def add_begin(self, data):\n",
        "   new_node = Node(data)\n",
        "   new_node.ref = self.head\n",
        "   self.head = new_node\n",
        "# insertion at the end\n",
        "  def add_end(self, data):\n",
        "    new_node = Node(data)\n",
        "    if self.head is None:\n",
        "      self.head = new_node\n",
        "    else:\n",
        "      n = self.head\n",
        "      while n.ref is not None:\n",
        "       n = n.ref\n",
        "      n.ref = new_node\n",
        "# insertion inbetween\n",
        "  def add_after(self, data, X):\n",
        "   n = self.head\n",
        "   while n is not None:\n",
        "    if X == n.data:\n",
        "      break\n",
        "    n= n.ref\n",
        "   if n is None:\n",
        "    print(\"node is not present in LL\")\n",
        "   else:\n",
        "    new_node = Node(data)\n",
        "    new_node.ref = n.ref\n",
        "    n.ref = new_node\n",
        "LL1 = Linkedlist()\n",
        "LL1.add_begin(20)\n",
        "LL1.add_begin(10)\n",
        "LL1.add_after(15,10)\n",
        "LL1.add_after(30,20)\n",
        "LL1.add_end(60)\n",
        "LL1.add_end(100)\n",
        "LL1.add_end(200)\n",
        "LL1.print_LL()"
      ],
      "metadata": {
        "colab": {
          "base_uri": "https://localhost:8080/"
        },
        "id": "AgVljGAMhNeD",
        "outputId": "6c5b87b5-5894-4ad1-aa39-12fc5b009b65"
      },
      "execution_count": null,
      "outputs": [
        {
          "output_type": "stream",
          "name": "stdout",
          "text": [
            "10 -->15 -->20 -->30 -->60 -->100 -->200 -->"
          ]
        }
      ]
    },
    {
      "cell_type": "code",
      "source": [
        "class Node:\n",
        "  def __init__(self, data):\n",
        "    self.data = data\n",
        "    self.ref = None\n",
        "node1 = Node (10)\n",
        "\n",
        "# traversal of linked list\n",
        "class Linkedlist:\n",
        "  def __init__(self):\n",
        "    self.head = None\n",
        "  def print_LL(self):\n",
        "    if self.head is None:\n",
        "      print(\"linked list is empty\")\n",
        "    else:\n",
        "      n = self.head\n",
        "      while n is not None:\n",
        "        print(n.data,\"-->\", end=\"\")\n",
        "        n = n.ref\n",
        "# insertion at the beginning\n",
        "  def add_begin(self, data):\n",
        "   new_node = Node(data)\n",
        "   new_node.ref = self.head\n",
        "   self.head = new_node\n",
        "# insertion at the end\n",
        "  def add_end(self, data):\n",
        "    new_node = Node(data)\n",
        "    if self.head is None:\n",
        "      self.head = new_node\n",
        "    else:\n",
        "      n = self.head\n",
        "      while n.ref is not None:\n",
        "       n = n.ref\n",
        "      n.ref = new_node\n",
        "# insertion inbetween\n",
        "  def add_after(self, data, X):\n",
        "   n = self.head\n",
        "   while n is not None:\n",
        "    if X == n.data:\n",
        "      break\n",
        "    n= n.ref\n",
        "   if n is None:\n",
        "    print(\"node is not present in LL\")\n",
        "   else:\n",
        "    new_node = Node(data)\n",
        "    new_node.ref = n.ref\n",
        "    n.ref = new_node\n",
        "# deletion at beginning\n",
        "  def delete_begin(self):\n",
        "   if self.head is None:\n",
        "    print(\"LL is empty so we can't delete nodes\")\n",
        "   else:\n",
        "    self.head = self.head.ref\n",
        "# deletion at end\n",
        "  def delete_end(self):\n",
        "   if self.head is None:\n",
        "    print(\"LL is empty can't delete nodes\")\n",
        "   else:\n",
        "    n = self.head\n",
        "    while n.ref.ref is not None:\n",
        "      n = n.ref\n",
        "    n.ref = None\n",
        "LL1 = Linkedlist()\n",
        "LL1.add_begin(20)\n",
        "LL1.add_begin(10)\n",
        "LL1.add_after(50,10)\n",
        "LL1.add_end(100)\n",
        "LL1.delete_begin()\n",
        "LL1.delete_end()\n",
        "LL1.print_LL()"
      ],
      "metadata": {
        "colab": {
          "base_uri": "https://localhost:8080/"
        },
        "id": "xND9fcvYkvMq",
        "outputId": "8f362c01-840c-42f6-ee18-8692adb620bc"
      },
      "execution_count": null,
      "outputs": [
        {
          "output_type": "stream",
          "name": "stdout",
          "text": [
            "50 -->20 -->"
          ]
        }
      ]
    },
    {
      "cell_type": "code",
      "source": [],
      "metadata": {
        "id": "LJnjMQ3pod3g"
      },
      "execution_count": null,
      "outputs": []
    }
  ]
}